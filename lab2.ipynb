{
  "cells": [
    {
      "cell_type": "markdown",
      "metadata": {
        "id": "tUryLL50TWbR"
      },
      "source": [
        "# Классификация методом kNN (k ближайших соседей)"
      ]
    },
    {
      "cell_type": "markdown",
      "metadata": {
        "id": "-0bzGTlWTWbX"
      },
      "source": [
        "## Описание задачи и информация о датасете\n",
        "Маммография - самый эффективный метод диагностики рака груди, который доступен сегодня. Компьютерная диагностика (CAD) для характеристики маммографических образований как злокачественных или доброкачественных может помочь радиологам снизить частоту биопсии без увеличения количества ложноотрицательных результатов. Датасет содержит оценку BI-RADS, возраст пациента и три атрибута BI-RADS, вместе с  ground truth (severity) для доброкачественных и злокачественных новообразований, которые были идентифицированы на полноформатных цифровых маммограммах, собранных в университете Эрлангена — Нюрнберга с 2003 по 2006 год. Каждому экземпляру соответствует оценка BI-RADS в диапазоне от 1 (определенно безвредно) до 5 (что свидетельствует о злокачественности), которые были присвоены в процессе двойного обзора врачей.  Датасет можно использовать для прогнозирования степени тяжести образований (доброкачественная или злокачественная) на основе атрибутов, описывающих особенности образований, и возраста пациента.\\\n",
        "Распределение по классам: доброкачественные = 516, злокачественные = 445. \\\n",
        "Информация об атрибутах: всего 6 атрибутов (1 goal field, 1 непрогнозируемый, 4 прогнозируемых атрибута):\\\n",
        "BI-RADS assessment: от 1 до 5 (порядковый, непрогнозируемый!); Age: возраст пациента в годах (целочисленный); Shape: форма образований: круглая = 1, овальная, = 2 дольчатая = 3, неправильная = 4 (номинальный); Margin: края образований: ограниченные = 1, микролобулированные = 2, затемненные = 3, нечеткие = 4, спикулированные = 5(номинальный); Density: плотность образований: высокая = 1, изоплотность = 2, низкая = 3, жиросодержащая = 4 (порядковый); Severity: степень тяжести: доброкачественная = 0 или злокачественная = 1 (биноминальная, goal field!).\\\n",
        "Пропущенные значения:\n",
        "BI-RADS assessment: 2; Age: 5; Shape: 31; Margin: 48; Density: 76; Severity: 0.\\\n",
        "Ссылка на датасет: https://archive.ics.uci.edu/ml/datasets/Mammographic+Mass"
      ]
    },
    {
      "cell_type": "code",
      "execution_count": 1,
      "metadata": {
        "id": "9sKY_wMvTWbY"
      },
      "outputs": [],
      "source": [
        "import numpy as np\n",
        "import matplotlib.pyplot as plt\n",
        "import pandas as pd\n",
        "import seaborn as sns"
      ]
    },
    {
      "cell_type": "markdown",
      "metadata": {
        "id": "rkKNbi1fTWba"
      },
      "source": [
        "## Загрузка и прочтение данных"
      ]
    },
    {
      "cell_type": "code",
      "execution_count": 2,
      "metadata": {
        "id": "A_RLMAb9TWba"
      },
      "outputs": [],
      "source": [
        "url = 'https://archive.ics.uci.edu/ml/machine-learning-databases/mammographic-masses/mammographic_masses.data'\n",
        "data = pd.read_csv(url)"
      ]
    },
    {
      "cell_type": "code",
      "execution_count": 3,
      "metadata": {
        "colab": {
          "base_uri": "https://localhost:8080/"
        },
        "id": "V9KZatEwTWba",
        "outputId": "652bd220-26cf-482d-e78d-42ee27416110"
      },
      "outputs": [
        {
          "output_type": "execute_result",
          "data": {
            "text/plain": [
              "(960, 6)"
            ]
          },
          "metadata": {},
          "execution_count": 3
        }
      ],
      "source": [
        "data.shape"
      ]
    },
    {
      "cell_type": "code",
      "execution_count": 4,
      "metadata": {
        "colab": {
          "base_uri": "https://localhost:8080/"
        },
        "id": "dl-ZPhURTWbc",
        "outputId": "9cbb8e0b-d4fb-484c-cf7e-a4fdd3fff253"
      },
      "outputs": [
        {
          "output_type": "execute_result",
          "data": {
            "text/plain": [
              "pandas.core.frame.DataFrame"
            ]
          },
          "metadata": {},
          "execution_count": 4
        }
      ],
      "source": [
        "type(data)"
      ]
    },
    {
      "cell_type": "code",
      "execution_count": 5,
      "metadata": {
        "colab": {
          "base_uri": "https://localhost:8080/",
          "height": 423
        },
        "id": "wjRbhQQvTWbc",
        "outputId": "739cf5ed-2c5e-4bc7-a573-778531f32c43"
      },
      "outputs": [
        {
          "output_type": "execute_result",
          "data": {
            "text/plain": [
              "     5  67  3 5.1 3.1  1\n",
              "0    4  43  1   1   ?  1\n",
              "1    5  58  4   5   3  1\n",
              "2    4  28  1   1   3  0\n",
              "3    5  74  1   5   ?  1\n",
              "4    4  65  1   ?   3  0\n",
              "..  ..  .. ..  ..  .. ..\n",
              "955  4  47  2   1   3  0\n",
              "956  4  56  4   5   3  1\n",
              "957  4  64  4   5   3  0\n",
              "958  5  66  4   5   3  1\n",
              "959  4  62  3   3   3  0\n",
              "\n",
              "[960 rows x 6 columns]"
            ],
            "text/html": [
              "<div>\n",
              "<style scoped>\n",
              "    .dataframe tbody tr th:only-of-type {\n",
              "        vertical-align: middle;\n",
              "    }\n",
              "\n",
              "    .dataframe tbody tr th {\n",
              "        vertical-align: top;\n",
              "    }\n",
              "\n",
              "    .dataframe thead th {\n",
              "        text-align: right;\n",
              "    }\n",
              "</style>\n",
              "<table border=\"1\" class=\"dataframe\">\n",
              "  <thead>\n",
              "    <tr style=\"text-align: right;\">\n",
              "      <th></th>\n",
              "      <th>5</th>\n",
              "      <th>67</th>\n",
              "      <th>3</th>\n",
              "      <th>5.1</th>\n",
              "      <th>3.1</th>\n",
              "      <th>1</th>\n",
              "    </tr>\n",
              "  </thead>\n",
              "  <tbody>\n",
              "    <tr>\n",
              "      <th>0</th>\n",
              "      <td>4</td>\n",
              "      <td>43</td>\n",
              "      <td>1</td>\n",
              "      <td>1</td>\n",
              "      <td>?</td>\n",
              "      <td>1</td>\n",
              "    </tr>\n",
              "    <tr>\n",
              "      <th>1</th>\n",
              "      <td>5</td>\n",
              "      <td>58</td>\n",
              "      <td>4</td>\n",
              "      <td>5</td>\n",
              "      <td>3</td>\n",
              "      <td>1</td>\n",
              "    </tr>\n",
              "    <tr>\n",
              "      <th>2</th>\n",
              "      <td>4</td>\n",
              "      <td>28</td>\n",
              "      <td>1</td>\n",
              "      <td>1</td>\n",
              "      <td>3</td>\n",
              "      <td>0</td>\n",
              "    </tr>\n",
              "    <tr>\n",
              "      <th>3</th>\n",
              "      <td>5</td>\n",
              "      <td>74</td>\n",
              "      <td>1</td>\n",
              "      <td>5</td>\n",
              "      <td>?</td>\n",
              "      <td>1</td>\n",
              "    </tr>\n",
              "    <tr>\n",
              "      <th>4</th>\n",
              "      <td>4</td>\n",
              "      <td>65</td>\n",
              "      <td>1</td>\n",
              "      <td>?</td>\n",
              "      <td>3</td>\n",
              "      <td>0</td>\n",
              "    </tr>\n",
              "    <tr>\n",
              "      <th>...</th>\n",
              "      <td>...</td>\n",
              "      <td>...</td>\n",
              "      <td>...</td>\n",
              "      <td>...</td>\n",
              "      <td>...</td>\n",
              "      <td>...</td>\n",
              "    </tr>\n",
              "    <tr>\n",
              "      <th>955</th>\n",
              "      <td>4</td>\n",
              "      <td>47</td>\n",
              "      <td>2</td>\n",
              "      <td>1</td>\n",
              "      <td>3</td>\n",
              "      <td>0</td>\n",
              "    </tr>\n",
              "    <tr>\n",
              "      <th>956</th>\n",
              "      <td>4</td>\n",
              "      <td>56</td>\n",
              "      <td>4</td>\n",
              "      <td>5</td>\n",
              "      <td>3</td>\n",
              "      <td>1</td>\n",
              "    </tr>\n",
              "    <tr>\n",
              "      <th>957</th>\n",
              "      <td>4</td>\n",
              "      <td>64</td>\n",
              "      <td>4</td>\n",
              "      <td>5</td>\n",
              "      <td>3</td>\n",
              "      <td>0</td>\n",
              "    </tr>\n",
              "    <tr>\n",
              "      <th>958</th>\n",
              "      <td>5</td>\n",
              "      <td>66</td>\n",
              "      <td>4</td>\n",
              "      <td>5</td>\n",
              "      <td>3</td>\n",
              "      <td>1</td>\n",
              "    </tr>\n",
              "    <tr>\n",
              "      <th>959</th>\n",
              "      <td>4</td>\n",
              "      <td>62</td>\n",
              "      <td>3</td>\n",
              "      <td>3</td>\n",
              "      <td>3</td>\n",
              "      <td>0</td>\n",
              "    </tr>\n",
              "  </tbody>\n",
              "</table>\n",
              "<p>960 rows × 6 columns</p>\n",
              "</div>"
            ]
          },
          "metadata": {},
          "execution_count": 5
        }
      ],
      "source": [
        "data"
      ]
    },
    {
      "cell_type": "code",
      "execution_count": 6,
      "metadata": {
        "id": "PV9RbnXTTWbd"
      },
      "outputs": [],
      "source": [
        "data.columns = ['BIRADS_assessment', 'Age', 'Shape', 'Margin', 'Density', 'Severity']"
      ]
    },
    {
      "cell_type": "markdown",
      "metadata": {
        "id": "ZMVeO4ICTWbe"
      },
      "source": [
        "## Визуализация данных и описательная статистика"
      ]
    },
    {
      "cell_type": "code",
      "execution_count": 7,
      "metadata": {
        "colab": {
          "base_uri": "https://localhost:8080/"
        },
        "id": "5YSVRlI9TWbe",
        "outputId": "ab6c8f9b-8cfb-4824-9fed-3fda75cdc5ba"
      },
      "outputs": [
        {
          "output_type": "execute_result",
          "data": {
            "text/plain": [
              "BIRADS_assessment    object\n",
              "Age                  object\n",
              "Shape                object\n",
              "Margin               object\n",
              "Density              object\n",
              "Severity              int64\n",
              "dtype: object"
            ]
          },
          "metadata": {},
          "execution_count": 7
        }
      ],
      "source": [
        "data.dtypes"
      ]
    },
    {
      "cell_type": "code",
      "execution_count": 8,
      "metadata": {
        "colab": {
          "base_uri": "https://localhost:8080/",
          "height": 206
        },
        "id": "EE-eA_GRTWbf",
        "outputId": "56dc6356-4275-4658-be67-f2d7a1fb0af5"
      },
      "outputs": [
        {
          "output_type": "execute_result",
          "data": {
            "text/plain": [
              "  BIRADS_assessment Age Shape Margin Density  Severity\n",
              "0                 4  43     1      1       ?         1\n",
              "1                 5  58     4      5       3         1\n",
              "2                 4  28     1      1       3         0\n",
              "3                 5  74     1      5       ?         1\n",
              "4                 4  65     1      ?       3         0"
            ],
            "text/html": [
              "<div>\n",
              "<style scoped>\n",
              "    .dataframe tbody tr th:only-of-type {\n",
              "        vertical-align: middle;\n",
              "    }\n",
              "\n",
              "    .dataframe tbody tr th {\n",
              "        vertical-align: top;\n",
              "    }\n",
              "\n",
              "    .dataframe thead th {\n",
              "        text-align: right;\n",
              "    }\n",
              "</style>\n",
              "<table border=\"1\" class=\"dataframe\">\n",
              "  <thead>\n",
              "    <tr style=\"text-align: right;\">\n",
              "      <th></th>\n",
              "      <th>BIRADS_assessment</th>\n",
              "      <th>Age</th>\n",
              "      <th>Shape</th>\n",
              "      <th>Margin</th>\n",
              "      <th>Density</th>\n",
              "      <th>Severity</th>\n",
              "    </tr>\n",
              "  </thead>\n",
              "  <tbody>\n",
              "    <tr>\n",
              "      <th>0</th>\n",
              "      <td>4</td>\n",
              "      <td>43</td>\n",
              "      <td>1</td>\n",
              "      <td>1</td>\n",
              "      <td>?</td>\n",
              "      <td>1</td>\n",
              "    </tr>\n",
              "    <tr>\n",
              "      <th>1</th>\n",
              "      <td>5</td>\n",
              "      <td>58</td>\n",
              "      <td>4</td>\n",
              "      <td>5</td>\n",
              "      <td>3</td>\n",
              "      <td>1</td>\n",
              "    </tr>\n",
              "    <tr>\n",
              "      <th>2</th>\n",
              "      <td>4</td>\n",
              "      <td>28</td>\n",
              "      <td>1</td>\n",
              "      <td>1</td>\n",
              "      <td>3</td>\n",
              "      <td>0</td>\n",
              "    </tr>\n",
              "    <tr>\n",
              "      <th>3</th>\n",
              "      <td>5</td>\n",
              "      <td>74</td>\n",
              "      <td>1</td>\n",
              "      <td>5</td>\n",
              "      <td>?</td>\n",
              "      <td>1</td>\n",
              "    </tr>\n",
              "    <tr>\n",
              "      <th>4</th>\n",
              "      <td>4</td>\n",
              "      <td>65</td>\n",
              "      <td>1</td>\n",
              "      <td>?</td>\n",
              "      <td>3</td>\n",
              "      <td>0</td>\n",
              "    </tr>\n",
              "  </tbody>\n",
              "</table>\n",
              "</div>"
            ]
          },
          "metadata": {},
          "execution_count": 8
        }
      ],
      "source": [
        "data.head()"
      ]
    },
    {
      "cell_type": "markdown",
      "metadata": {
        "id": "FiruEYl9TWbf"
      },
      "source": [
        "Для количественных признаков приведены количество значений, средние значения, стандартное отклонение, минимальное и макимальное значения, медиана и значения квартилей:"
      ]
    },
    {
      "cell_type": "code",
      "execution_count": 9,
      "metadata": {
        "scrolled": true,
        "colab": {
          "base_uri": "https://localhost:8080/",
          "height": 300
        },
        "id": "pQSm8cSyTWbf",
        "outputId": "77df3dae-31c1-4ccf-975a-84c87e9bae6f"
      },
      "outputs": [
        {
          "output_type": "execute_result",
          "data": {
            "text/plain": [
              "         Severity\n",
              "count  960.000000\n",
              "mean     0.462500\n",
              "std      0.498852\n",
              "min      0.000000\n",
              "25%      0.000000\n",
              "50%      0.000000\n",
              "75%      1.000000\n",
              "max      1.000000"
            ],
            "text/html": [
              "<div>\n",
              "<style scoped>\n",
              "    .dataframe tbody tr th:only-of-type {\n",
              "        vertical-align: middle;\n",
              "    }\n",
              "\n",
              "    .dataframe tbody tr th {\n",
              "        vertical-align: top;\n",
              "    }\n",
              "\n",
              "    .dataframe thead th {\n",
              "        text-align: right;\n",
              "    }\n",
              "</style>\n",
              "<table border=\"1\" class=\"dataframe\">\n",
              "  <thead>\n",
              "    <tr style=\"text-align: right;\">\n",
              "      <th></th>\n",
              "      <th>Severity</th>\n",
              "    </tr>\n",
              "  </thead>\n",
              "  <tbody>\n",
              "    <tr>\n",
              "      <th>count</th>\n",
              "      <td>960.000000</td>\n",
              "    </tr>\n",
              "    <tr>\n",
              "      <th>mean</th>\n",
              "      <td>0.462500</td>\n",
              "    </tr>\n",
              "    <tr>\n",
              "      <th>std</th>\n",
              "      <td>0.498852</td>\n",
              "    </tr>\n",
              "    <tr>\n",
              "      <th>min</th>\n",
              "      <td>0.000000</td>\n",
              "    </tr>\n",
              "    <tr>\n",
              "      <th>25%</th>\n",
              "      <td>0.000000</td>\n",
              "    </tr>\n",
              "    <tr>\n",
              "      <th>50%</th>\n",
              "      <td>0.000000</td>\n",
              "    </tr>\n",
              "    <tr>\n",
              "      <th>75%</th>\n",
              "      <td>1.000000</td>\n",
              "    </tr>\n",
              "    <tr>\n",
              "      <th>max</th>\n",
              "      <td>1.000000</td>\n",
              "    </tr>\n",
              "  </tbody>\n",
              "</table>\n",
              "</div>"
            ]
          },
          "metadata": {},
          "execution_count": 9
        }
      ],
      "source": [
        "data.describe()"
      ]
    },
    {
      "cell_type": "markdown",
      "metadata": {
        "id": "V4r6JuLhTWbg"
      },
      "source": [
        "Для признаков типа object приведены количество значений, количество уникальных значений, самое распространенные значение и частота наиболее распространенного значения:"
      ]
    },
    {
      "cell_type": "code",
      "execution_count": 10,
      "metadata": {
        "colab": {
          "base_uri": "https://localhost:8080/",
          "height": 174
        },
        "id": "rOTHhCVSTWbg",
        "outputId": "bb0ce281-1399-4be4-b081-6ec2406de340"
      },
      "outputs": [
        {
          "output_type": "execute_result",
          "data": {
            "text/plain": [
              "       BIRADS_assessment  Age Shape Margin Density\n",
              "count                960  960   960    960     960\n",
              "unique                 8   74     5      6       5\n",
              "top                    4   59     4      1       3\n",
              "freq                 547   36   400    357     797"
            ],
            "text/html": [
              "<div>\n",
              "<style scoped>\n",
              "    .dataframe tbody tr th:only-of-type {\n",
              "        vertical-align: middle;\n",
              "    }\n",
              "\n",
              "    .dataframe tbody tr th {\n",
              "        vertical-align: top;\n",
              "    }\n",
              "\n",
              "    .dataframe thead th {\n",
              "        text-align: right;\n",
              "    }\n",
              "</style>\n",
              "<table border=\"1\" class=\"dataframe\">\n",
              "  <thead>\n",
              "    <tr style=\"text-align: right;\">\n",
              "      <th></th>\n",
              "      <th>BIRADS_assessment</th>\n",
              "      <th>Age</th>\n",
              "      <th>Shape</th>\n",
              "      <th>Margin</th>\n",
              "      <th>Density</th>\n",
              "    </tr>\n",
              "  </thead>\n",
              "  <tbody>\n",
              "    <tr>\n",
              "      <th>count</th>\n",
              "      <td>960</td>\n",
              "      <td>960</td>\n",
              "      <td>960</td>\n",
              "      <td>960</td>\n",
              "      <td>960</td>\n",
              "    </tr>\n",
              "    <tr>\n",
              "      <th>unique</th>\n",
              "      <td>8</td>\n",
              "      <td>74</td>\n",
              "      <td>5</td>\n",
              "      <td>6</td>\n",
              "      <td>5</td>\n",
              "    </tr>\n",
              "    <tr>\n",
              "      <th>top</th>\n",
              "      <td>4</td>\n",
              "      <td>59</td>\n",
              "      <td>4</td>\n",
              "      <td>1</td>\n",
              "      <td>3</td>\n",
              "    </tr>\n",
              "    <tr>\n",
              "      <th>freq</th>\n",
              "      <td>547</td>\n",
              "      <td>36</td>\n",
              "      <td>400</td>\n",
              "      <td>357</td>\n",
              "      <td>797</td>\n",
              "    </tr>\n",
              "  </tbody>\n",
              "</table>\n",
              "</div>"
            ]
          },
          "metadata": {},
          "execution_count": 10
        }
      ],
      "source": [
        "data.describe(include = ['object'])"
      ]
    },
    {
      "cell_type": "markdown",
      "metadata": {
        "id": "4vdYf9LUTWbh"
      },
      "source": [
        "Диаграммы, которые показывают сколько раз номинальные признаки принимают те или иные значения:"
      ]
    },
    {
      "cell_type": "code",
      "execution_count": 11,
      "metadata": {
        "scrolled": true,
        "colab": {
          "base_uri": "https://localhost:8080/",
          "height": 499
        },
        "id": "sH_vEubtTWbh",
        "outputId": "298f982d-25a8-4b73-c56d-436801cda417"
      },
      "outputs": [
        {
          "output_type": "display_data",
          "data": {
            "text/plain": [
              "<Figure size 720x576 with 5 Axes>"
            ],
            "image/png": "[encoded data removed]"
          },
          "metadata": {
            "needs_background": "light"
          }
        }
      ],
      "source": [
        "fig = plt.figure(figsize = (10, 8))\n",
        "ax_1 = fig.add_subplot(2, 2, 1)\n",
        "ax_2 = fig.add_subplot(2, 2, 2)\n",
        "ax_3 = fig.add_subplot(2, 3, 4)\n",
        "ax_4 = fig.add_subplot(2, 3, 5)\n",
        "ax_5 = fig.add_subplot(2, 3, 6)\n",
        "ax_1.hist(data.loc[:, \"BIRADS_assessment\"])\n",
        "ax_1.set_title('BI-RADS assessment')\n",
        "ax_2.hist(data.loc[:, \"Shape\"])\n",
        "ax_2.set_title('Shape')\n",
        "ax_3.hist(data.loc[:, \"Margin\"])\n",
        "ax_3.set_title('Margin')\n",
        "ax_4.hist(data.loc[:, \"Density\"])\n",
        "ax_4.set_title('Density')\n",
        "ax_5.hist(data.loc[:, \"Severity\"])\n",
        "ax_5.set_title('Severity')\n",
        "plt.show()"
      ]
    },
    {
      "cell_type": "markdown",
      "metadata": {
        "id": "EPLv160LTWbi"
      },
      "source": [
        "Диаграмма, которая показывает сколько пациентов того или иного возраста:"
      ]
    },
    {
      "cell_type": "code",
      "execution_count": 12,
      "metadata": {
        "scrolled": true,
        "colab": {
          "base_uri": "https://localhost:8080/",
          "height": 336
        },
        "id": "wG592slrTWbi",
        "outputId": "3b09d63d-8448-4cde-fdc3-1fcd43c6e69a"
      },
      "outputs": [
        {
          "output_type": "display_data",
          "data": {
            "text/plain": [
              "<Figure size 1440x360 with 1 Axes>"
            ],
            "image/png": "[encoded data removed]"
          },
          "metadata": {
            "needs_background": "light"
          }
        }
      ],
      "source": [
        "fig = plt.figure(figsize = (20, 5))\n",
        "plt.hist(data.loc[:, \"Age\"])\n",
        "plt.title('Age')\n",
        "plt.show()"
      ]
    },
    {
      "cell_type": "markdown",
      "metadata": {
        "id": "rPZflgH_TWbj"
      },
      "source": [
        "На основе диаграммы можно сделать вывод о том, что большинство пациентов имеет средний/пожилой возраст. Меньшинство имеет молодой или старческий возраст."
      ]
    },
    {
      "cell_type": "markdown",
      "metadata": {
        "id": "UMnLeybLTWbj"
      },
      "source": [
        "## Обработка пропущенных значений"
      ]
    },
    {
      "cell_type": "markdown",
      "metadata": {
        "id": "Cp8vd5_7TWbj"
      },
      "source": [
        "Атрибут BI-RADS assessment непрогнозируемый, поэтому его можно исключить."
      ]
    },
    {
      "cell_type": "code",
      "execution_count": 13,
      "metadata": {
        "id": "oykf5cw5TWbj"
      },
      "outputs": [],
      "source": [
        "data = data.drop(['BIRADS_assessment'], axis=1)"
      ]
    },
    {
      "cell_type": "code",
      "execution_count": 14,
      "metadata": {
        "scrolled": true,
        "id": "71kx6X91TWbk"
      },
      "outputs": [],
      "source": [
        "categorical_columns = [c for c in data.columns if data[c].dtype.name == 'object']"
      ]
    },
    {
      "cell_type": "code",
      "execution_count": 15,
      "metadata": {
        "scrolled": true,
        "id": "rgddSOshTWbk"
      },
      "outputs": [],
      "source": [
        "data.loc[data.Shape == \"?\", 'Shape'] = None\n",
        "data.loc[data.Age == \"?\", 'Age'] = None\n",
        "data.loc[data.Margin == \"?\", 'Margin'] = None\n",
        "data.loc[data.Density == \"?\", 'Density'] = None"
      ]
    },
    {
      "cell_type": "code",
      "execution_count": 16,
      "metadata": {
        "colab": {
          "base_uri": "https://localhost:8080/",
          "height": 206
        },
        "id": "zJF5foCjTWbk",
        "outputId": "98f1bdc6-6525-48e3-a61a-1ecaaa04437b"
      },
      "outputs": [
        {
          "output_type": "execute_result",
          "data": {
            "text/plain": [
              "  Age Shape Margin Density  Severity\n",
              "0  43     1      1    None         1\n",
              "1  58     4      5       3         1\n",
              "2  28     1      1       3         0\n",
              "3  74     1      5    None         1\n",
              "4  65     1   None       3         0"
            ],
            "text/html": [
              "<div>\n",
              "<style scoped>\n",
              "    .dataframe tbody tr th:only-of-type {\n",
              "        vertical-align: middle;\n",
              "    }\n",
              "\n",
              "    .dataframe tbody tr th {\n",
              "        vertical-align: top;\n",
              "    }\n",
              "\n",
              "    .dataframe thead th {\n",
              "        text-align: right;\n",
              "    }\n",
              "</style>\n",
              "<table border=\"1\" class=\"dataframe\">\n",
              "  <thead>\n",
              "    <tr style=\"text-align: right;\">\n",
              "      <th></th>\n",
              "      <th>Age</th>\n",
              "      <th>Shape</th>\n",
              "      <th>Margin</th>\n",
              "      <th>Density</th>\n",
              "      <th>Severity</th>\n",
              "    </tr>\n",
              "  </thead>\n",
              "  <tbody>\n",
              "    <tr>\n",
              "      <th>0</th>\n",
              "      <td>43</td>\n",
              "      <td>1</td>\n",
              "      <td>1</td>\n",
              "      <td>None</td>\n",
              "      <td>1</td>\n",
              "    </tr>\n",
              "    <tr>\n",
              "      <th>1</th>\n",
              "      <td>58</td>\n",
              "      <td>4</td>\n",
              "      <td>5</td>\n",
              "      <td>3</td>\n",
              "      <td>1</td>\n",
              "    </tr>\n",
              "    <tr>\n",
              "      <th>2</th>\n",
              "      <td>28</td>\n",
              "      <td>1</td>\n",
              "      <td>1</td>\n",
              "      <td>3</td>\n",
              "      <td>0</td>\n",
              "    </tr>\n",
              "    <tr>\n",
              "      <th>3</th>\n",
              "      <td>74</td>\n",
              "      <td>1</td>\n",
              "      <td>5</td>\n",
              "      <td>None</td>\n",
              "      <td>1</td>\n",
              "    </tr>\n",
              "    <tr>\n",
              "      <th>4</th>\n",
              "      <td>65</td>\n",
              "      <td>1</td>\n",
              "      <td>None</td>\n",
              "      <td>3</td>\n",
              "      <td>0</td>\n",
              "    </tr>\n",
              "  </tbody>\n",
              "</table>\n",
              "</div>"
            ]
          },
          "metadata": {},
          "execution_count": 16
        }
      ],
      "source": [
        "data.head()"
      ]
    },
    {
      "cell_type": "code",
      "execution_count": 17,
      "metadata": {
        "colab": {
          "base_uri": "https://localhost:8080/"
        },
        "id": "jxJ_V0nNTWbl",
        "outputId": "ac66edb9-bbe9-4ef6-c405-023423772845"
      },
      "outputs": [
        {
          "output_type": "execute_result",
          "data": {
            "text/plain": [
              "array(['1', '4', None, '2', '3'], dtype=object)"
            ]
          },
          "metadata": {},
          "execution_count": 17
        }
      ],
      "source": [
        "data['Shape'].unique()"
      ]
    },
    {
      "cell_type": "code",
      "execution_count": 18,
      "metadata": {
        "colab": {
          "base_uri": "https://localhost:8080/"
        },
        "id": "dM_-OJRPTWbl",
        "outputId": "9c4f959b-d8cc-464c-ad2d-66b9748f76da"
      },
      "outputs": [
        {
          "output_type": "execute_result",
          "data": {
            "text/plain": [
              "'4'"
            ]
          },
          "metadata": {},
          "execution_count": 18
        }
      ],
      "source": [
        "data['Shape'].describe().top"
      ]
    },
    {
      "cell_type": "code",
      "execution_count": 19,
      "metadata": {
        "id": "b0j3_VAtTWbl"
      },
      "outputs": [],
      "source": [
        "data['Shape'] = data['Shape'].fillna('4')"
      ]
    },
    {
      "cell_type": "code",
      "execution_count": 20,
      "metadata": {
        "colab": {
          "base_uri": "https://localhost:8080/"
        },
        "id": "z1LvMN-cTWbm",
        "outputId": "7681cc38-412d-4026-f1fa-9ece250925e6"
      },
      "outputs": [
        {
          "output_type": "execute_result",
          "data": {
            "text/plain": [
              "array(['1', '4', '2', '3'], dtype=object)"
            ]
          },
          "metadata": {},
          "execution_count": 20
        }
      ],
      "source": [
        "data['Shape'].unique()"
      ]
    },
    {
      "cell_type": "markdown",
      "metadata": {
        "id": "Q3QsjGquTWbm"
      },
      "source": [
        "Для категориальных признаков пропущенные значения заполняем самым популярным значением в столбце (у признака Severity нет пропущенных значений, поэтому его не трогаем):"
      ]
    },
    {
      "cell_type": "code",
      "execution_count": 21,
      "metadata": {
        "id": "VLljkx74TWbm"
      },
      "outputs": [],
      "source": [
        "data_describe = data.describe(include = [object])\n",
        "for c in categorical_columns:\n",
        "    data[c] = data[c].fillna(data_describe[c]['top'])"
      ]
    },
    {
      "cell_type": "code",
      "execution_count": 22,
      "metadata": {
        "scrolled": true,
        "colab": {
          "base_uri": "https://localhost:8080/",
          "height": 206
        },
        "id": "mvGDCbIPTWbm",
        "outputId": "2af8d6b3-3201-468c-8576-a52c43340b61"
      },
      "outputs": [
        {
          "output_type": "execute_result",
          "data": {
            "text/plain": [
              "  Age Shape Margin Density  Severity\n",
              "0  43     1      1       3         1\n",
              "1  58     4      5       3         1\n",
              "2  28     1      1       3         0\n",
              "3  74     1      5       3         1\n",
              "4  65     1      1       3         0"
            ],
            "text/html": [
              "<div>\n",
              "<style scoped>\n",
              "    .dataframe tbody tr th:only-of-type {\n",
              "        vertical-align: middle;\n",
              "    }\n",
              "\n",
              "    .dataframe tbody tr th {\n",
              "        vertical-align: top;\n",
              "    }\n",
              "\n",
              "    .dataframe thead th {\n",
              "        text-align: right;\n",
              "    }\n",
              "</style>\n",
              "<table border=\"1\" class=\"dataframe\">\n",
              "  <thead>\n",
              "    <tr style=\"text-align: right;\">\n",
              "      <th></th>\n",
              "      <th>Age</th>\n",
              "      <th>Shape</th>\n",
              "      <th>Margin</th>\n",
              "      <th>Density</th>\n",
              "      <th>Severity</th>\n",
              "    </tr>\n",
              "  </thead>\n",
              "  <tbody>\n",
              "    <tr>\n",
              "      <th>0</th>\n",
              "      <td>43</td>\n",
              "      <td>1</td>\n",
              "      <td>1</td>\n",
              "      <td>3</td>\n",
              "      <td>1</td>\n",
              "    </tr>\n",
              "    <tr>\n",
              "      <th>1</th>\n",
              "      <td>58</td>\n",
              "      <td>4</td>\n",
              "      <td>5</td>\n",
              "      <td>3</td>\n",
              "      <td>1</td>\n",
              "    </tr>\n",
              "    <tr>\n",
              "      <th>2</th>\n",
              "      <td>28</td>\n",
              "      <td>1</td>\n",
              "      <td>1</td>\n",
              "      <td>3</td>\n",
              "      <td>0</td>\n",
              "    </tr>\n",
              "    <tr>\n",
              "      <th>3</th>\n",
              "      <td>74</td>\n",
              "      <td>1</td>\n",
              "      <td>5</td>\n",
              "      <td>3</td>\n",
              "      <td>1</td>\n",
              "    </tr>\n",
              "    <tr>\n",
              "      <th>4</th>\n",
              "      <td>65</td>\n",
              "      <td>1</td>\n",
              "      <td>1</td>\n",
              "      <td>3</td>\n",
              "      <td>0</td>\n",
              "    </tr>\n",
              "  </tbody>\n",
              "</table>\n",
              "</div>"
            ]
          },
          "metadata": {},
          "execution_count": 22
        }
      ],
      "source": [
        "data.head()"
      ]
    },
    {
      "cell_type": "markdown",
      "metadata": {
        "id": "gYQnV-OOTWbm"
      },
      "source": [
        "## Бинаризация номинальных признаков"
      ]
    },
    {
      "cell_type": "code",
      "execution_count": 23,
      "metadata": {
        "id": "Q3DqdYOsTWbn"
      },
      "outputs": [],
      "source": [
        "nonbinary_columns = ['Shape', 'Margin', 'Density']\n",
        "binary_columns = ['Severity']"
      ]
    },
    {
      "cell_type": "code",
      "execution_count": 24,
      "metadata": {
        "scrolled": true,
        "colab": {
          "base_uri": "https://localhost:8080/"
        },
        "id": "K-3dPIjVTWbn",
        "outputId": "e8f8d4e6-c1c9-4ebf-bffe-34b90962dc6b"
      },
      "outputs": [
        {
          "output_type": "stream",
          "name": "stdout",
          "text": [
            "Index(['Shape_1', 'Shape_2', 'Shape_3', 'Shape_4', 'Margin_1', 'Margin_2',\n",
            "       'Margin_3', 'Margin_4', 'Margin_5', 'Density_1', 'Density_2',\n",
            "       'Density_3', 'Density_4'],\n",
            "      dtype='object')\n"
          ]
        }
      ],
      "source": [
        "data_nonbinary = pd.get_dummies(data[nonbinary_columns])\n",
        "print(data_nonbinary.columns)"
      ]
    },
    {
      "cell_type": "markdown",
      "metadata": {
        "id": "UW2Owx-ZTWbn"
      },
      "source": [
        "## Нормализация"
      ]
    },
    {
      "cell_type": "markdown",
      "metadata": {
        "id": "M4VmzhM5TWbn"
      },
      "source": [
        "Атрибут Age является целочисленным, т.е количественным, поэтому приводим его к целочисленному типу и выполняем стандратизацию:"
      ]
    },
    {
      "cell_type": "code",
      "execution_count": 25,
      "metadata": {
        "scrolled": true,
        "id": "_uhQYLlcTWbo"
      },
      "outputs": [],
      "source": [
        "data_age = data['Age'].astype('int64')"
      ]
    },
    {
      "cell_type": "code",
      "execution_count": 26,
      "metadata": {
        "id": "s00VgdWBTWbo"
      },
      "outputs": [],
      "source": [
        "data_age = (data_age - data_age.mean(axis = 0))/data_age.std(axis = 0)"
      ]
    },
    {
      "cell_type": "code",
      "execution_count": 27,
      "metadata": {
        "scrolled": false,
        "colab": {
          "base_uri": "https://localhost:8080/"
        },
        "id": "IGSUHxZZTWbo",
        "outputId": "e4a69b4c-aa95-4db3-bf19-28df9d91ae01"
      },
      "outputs": [
        {
          "output_type": "execute_result",
          "data": {
            "text/plain": [
              "count    9.600000e+02\n",
              "mean     8.529057e-17\n",
              "std      1.000000e+00\n",
              "min     -2.595200e+00\n",
              "25%     -7.263446e-01\n",
              "50%      1.042579e-01\n",
              "75%      7.272098e-01\n",
              "max      2.803716e+00\n",
              "Name: Age, dtype: float64"
            ]
          },
          "metadata": {},
          "execution_count": 27
        }
      ],
      "source": [
        "data_age.describe()"
      ]
    },
    {
      "cell_type": "markdown",
      "metadata": {
        "id": "eGDa57H3TWbo"
      },
      "source": [
        "Соединяем все в одну таблицу:"
      ]
    },
    {
      "cell_type": "code",
      "execution_count": 28,
      "metadata": {
        "scrolled": true,
        "id": "gS78l99GTWbo"
      },
      "outputs": [],
      "source": [
        "data = pd.concat((data_age, data_nonbinary, data[binary_columns]), axis = 1)"
      ]
    },
    {
      "cell_type": "code",
      "execution_count": 29,
      "metadata": {
        "scrolled": true,
        "colab": {
          "base_uri": "https://localhost:8080/",
          "height": 300
        },
        "id": "jKNNp3c5TWbp",
        "outputId": "c089727e-40c6-4be6-aeee-418b0f508ad1"
      },
      "outputs": [
        {
          "output_type": "execute_result",
          "data": {
            "text/plain": [
              "                Age     Shape_1     Shape_2     Shape_3     Shape_4  \\\n",
              "count  9.600000e+02  960.000000  960.000000  960.000000  960.000000   \n",
              "mean   8.529057e-17    0.233333    0.219792    0.097917    0.448958   \n",
              "std    1.000000e+00    0.423173    0.414321    0.297357    0.497647   \n",
              "min   -2.595200e+00    0.000000    0.000000    0.000000    0.000000   \n",
              "25%   -7.263446e-01    0.000000    0.000000    0.000000    0.000000   \n",
              "50%    1.042579e-01    0.000000    0.000000    0.000000    0.000000   \n",
              "75%    7.272098e-01    0.000000    0.000000    0.000000    1.000000   \n",
              "max    2.803716e+00    1.000000    1.000000    1.000000    1.000000   \n",
              "\n",
              "         Margin_1    Margin_2    Margin_3    Margin_4    Margin_5   Density_1  \\\n",
              "count  960.000000  960.000000  960.000000  960.000000  960.000000  960.000000   \n",
              "mean     0.421875    0.025000    0.120833    0.291667    0.140625    0.016667   \n",
              "std      0.494116    0.156206    0.326103    0.454767    0.347816    0.128086   \n",
              "min      0.000000    0.000000    0.000000    0.000000    0.000000    0.000000   \n",
              "25%      0.000000    0.000000    0.000000    0.000000    0.000000    0.000000   \n",
              "50%      0.000000    0.000000    0.000000    0.000000    0.000000    0.000000   \n",
              "75%      1.000000    0.000000    0.000000    1.000000    0.000000    0.000000   \n",
              "max      1.000000    1.000000    1.000000    1.000000    1.000000    1.000000   \n",
              "\n",
              "        Density_2   Density_3  Density_4    Severity  \n",
              "count  960.000000  960.000000  960.00000  960.000000  \n",
              "mean     0.061458    0.909375    0.01250    0.462500  \n",
              "std      0.240294    0.287225    0.11116    0.498852  \n",
              "min      0.000000    0.000000    0.00000    0.000000  \n",
              "25%      0.000000    1.000000    0.00000    0.000000  \n",
              "50%      0.000000    1.000000    0.00000    0.000000  \n",
              "75%      0.000000    1.000000    0.00000    1.000000  \n",
              "max      1.000000    1.000000    1.00000    1.000000  "
            ],
            "text/html": [
              "<div>\n",
              "<style scoped>\n",
              "    .dataframe tbody tr th:only-of-type {\n",
              "        vertical-align: middle;\n",
              "    }\n",
              "\n",
              "    .dataframe tbody tr th {\n",
              "        vertical-align: top;\n",
              "    }\n",
              "\n",
              "    .dataframe thead th {\n",
              "        text-align: right;\n",
              "    }\n",
              "</style>\n",
              "<table border=\"1\" class=\"dataframe\">\n",
              "  <thead>\n",
              "    <tr style=\"text-align: right;\">\n",
              "      <th></th>\n",
              "      <th>Age</th>\n",
              "      <th>Shape_1</th>\n",
              "      <th>Shape_2</th>\n",
              "      <th>Shape_3</th>\n",
              "      <th>Shape_4</th>\n",
              "      <th>Margin_1</th>\n",
              "      <th>Margin_2</th>\n",
              "      <th>Margin_3</th>\n",
              "      <th>Margin_4</th>\n",
              "      <th>Margin_5</th>\n",
              "      <th>Density_1</th>\n",
              "      <th>Density_2</th>\n",
              "      <th>Density_3</th>\n",
              "      <th>Density_4</th>\n",
              "      <th>Severity</th>\n",
              "    </tr>\n",
              "  </thead>\n",
              "  <tbody>\n",
              "    <tr>\n",
              "      <th>count</th>\n",
              "      <td>9.600000e+02</td>\n",
              "      <td>960.000000</td>\n",
              "      <td>960.000000</td>\n",
              "      <td>960.000000</td>\n",
              "      <td>960.000000</td>\n",
              "      <td>960.000000</td>\n",
              "      <td>960.000000</td>\n",
              "      <td>960.000000</td>\n",
              "      <td>960.000000</td>\n",
              "      <td>960.000000</td>\n",
              "      <td>960.000000</td>\n",
              "      <td>960.000000</td>\n",
              "      <td>960.000000</td>\n",
              "      <td>960.00000</td>\n",
              "      <td>960.000000</td>\n",
              "    </tr>\n",
              "    <tr>\n",
              "      <th>mean</th>\n",
              "      <td>8.529057e-17</td>\n",
              "      <td>0.233333</td>\n",
              "      <td>0.219792</td>\n",
              "      <td>0.097917</td>\n",
              "      <td>0.448958</td>\n",
              "      <td>0.421875</td>\n",
              "      <td>0.025000</td>\n",
              "      <td>0.120833</td>\n",
              "      <td>0.291667</td>\n",
              "      <td>0.140625</td>\n",
              "      <td>0.016667</td>\n",
              "      <td>0.061458</td>\n",
              "      <td>0.909375</td>\n",
              "      <td>0.01250</td>\n",
              "      <td>0.462500</td>\n",
              "    </tr>\n",
              "    <tr>\n",
              "      <th>std</th>\n",
              "      <td>1.000000e+00</td>\n",
              "      <td>0.423173</td>\n",
              "      <td>0.414321</td>\n",
              "      <td>0.297357</td>\n",
              "      <td>0.497647</td>\n",
              "      <td>0.494116</td>\n",
              "      <td>0.156206</td>\n",
              "      <td>0.326103</td>\n",
              "      <td>0.454767</td>\n",
              "      <td>0.347816</td>\n",
              "      <td>0.128086</td>\n",
              "      <td>0.240294</td>\n",
              "      <td>0.287225</td>\n",
              "      <td>0.11116</td>\n",
              "      <td>0.498852</td>\n",
              "    </tr>\n",
              "    <tr>\n",
              "      <th>min</th>\n",
              "      <td>-2.595200e+00</td>\n",
              "      <td>0.000000</td>\n",
              "      <td>0.000000</td>\n",
              "      <td>0.000000</td>\n",
              "      <td>0.000000</td>\n",
              "      <td>0.000000</td>\n",
              "      <td>0.000000</td>\n",
              "      <td>0.000000</td>\n",
              "      <td>0.000000</td>\n",
              "      <td>0.000000</td>\n",
              "      <td>0.000000</td>\n",
              "      <td>0.000000</td>\n",
              "      <td>0.000000</td>\n",
              "      <td>0.00000</td>\n",
              "      <td>0.000000</td>\n",
              "    </tr>\n",
              "    <tr>\n",
              "      <th>25%</th>\n",
              "      <td>-7.263446e-01</td>\n",
              "      <td>0.000000</td>\n",
              "      <td>0.000000</td>\n",
              "      <td>0.000000</td>\n",
              "      <td>0.000000</td>\n",
              "      <td>0.000000</td>\n",
              "      <td>0.000000</td>\n",
              "      <td>0.000000</td>\n",
              "      <td>0.000000</td>\n",
              "      <td>0.000000</td>\n",
              "      <td>0.000000</td>\n",
              "      <td>0.000000</td>\n",
              "      <td>1.000000</td>\n",
              "      <td>0.00000</td>\n",
              "      <td>0.000000</td>\n",
              "    </tr>\n",
              "    <tr>\n",
              "      <th>50%</th>\n",
              "      <td>1.042579e-01</td>\n",
              "      <td>0.000000</td>\n",
              "      <td>0.000000</td>\n",
              "      <td>0.000000</td>\n",
              "      <td>0.000000</td>\n",
              "      <td>0.000000</td>\n",
              "      <td>0.000000</td>\n",
              "      <td>0.000000</td>\n",
              "      <td>0.000000</td>\n",
              "      <td>0.000000</td>\n",
              "      <td>0.000000</td>\n",
              "      <td>0.000000</td>\n",
              "      <td>1.000000</td>\n",
              "      <td>0.00000</td>\n",
              "      <td>0.000000</td>\n",
              "    </tr>\n",
              "    <tr>\n",
              "      <th>75%</th>\n",
              "      <td>7.272098e-01</td>\n",
              "      <td>0.000000</td>\n",
              "      <td>0.000000</td>\n",
              "      <td>0.000000</td>\n",
              "      <td>1.000000</td>\n",
              "      <td>1.000000</td>\n",
              "      <td>0.000000</td>\n",
              "      <td>0.000000</td>\n",
              "      <td>1.000000</td>\n",
              "      <td>0.000000</td>\n",
              "      <td>0.000000</td>\n",
              "      <td>0.000000</td>\n",
              "      <td>1.000000</td>\n",
              "      <td>0.00000</td>\n",
              "      <td>1.000000</td>\n",
              "    </tr>\n",
              "    <tr>\n",
              "      <th>max</th>\n",
              "      <td>2.803716e+00</td>\n",
              "      <td>1.000000</td>\n",
              "      <td>1.000000</td>\n",
              "      <td>1.000000</td>\n",
              "      <td>1.000000</td>\n",
              "      <td>1.000000</td>\n",
              "      <td>1.000000</td>\n",
              "      <td>1.000000</td>\n",
              "      <td>1.000000</td>\n",
              "      <td>1.000000</td>\n",
              "      <td>1.000000</td>\n",
              "      <td>1.000000</td>\n",
              "      <td>1.000000</td>\n",
              "      <td>1.00000</td>\n",
              "      <td>1.000000</td>\n",
              "    </tr>\n",
              "  </tbody>\n",
              "</table>\n",
              "</div>"
            ]
          },
          "metadata": {},
          "execution_count": 29
        }
      ],
      "source": [
        "data.describe()"
      ]
    },
    {
      "cell_type": "markdown",
      "metadata": {
        "id": "-fYjD7I4TWbp"
      },
      "source": [
        "Теперь можно построить корреляционную матрицу:"
      ]
    },
    {
      "cell_type": "code",
      "execution_count": 30,
      "metadata": {
        "scrolled": true,
        "colab": {
          "base_uri": "https://localhost:8080/",
          "height": 309
        },
        "id": "pytVSNw8TWbp",
        "outputId": "8e5b98a5-3f40-43b2-f17d-7f2f12689d68"
      },
      "outputs": [
        {
          "output_type": "display_data",
          "data": {
            "text/plain": [
              "<Figure size 432x288 with 2 Axes>"
            ],
            "image/png": "[encoded data removed]"
          },
          "metadata": {
            "needs_background": "light"
          }
        }
      ],
      "source": [
        "corr_mat = data.corr()\n",
        "sns.heatmap(corr_mat, square=True, cmap='coolwarm')\n",
        "pass"
      ]
    },
    {
      "cell_type": "markdown",
      "metadata": {
        "id": "vOU4KSwfTWbp"
      },
      "source": [
        "По изображению видно, что признаки практически не коррелируют между собой, так как являются независимыми."
      ]
    },
    {
      "cell_type": "markdown",
      "metadata": {
        "id": "6QET8YmCTWbp"
      },
      "source": [
        "## Разбиение данных на обучающуюю и тестовую выборки"
      ]
    },
    {
      "cell_type": "markdown",
      "metadata": {
        "id": "sZ1_Y1LKTWbq"
      },
      "source": [
        "Для предсказания будем использовать все входные признаки, кроме Severity, так как он является нашим goal field."
      ]
    },
    {
      "cell_type": "code",
      "execution_count": 31,
      "metadata": {
        "id": "YyiVDjFVTWbq"
      },
      "outputs": [],
      "source": [
        "x = np.array(data.drop(['Severity'], axis=1))\n",
        "y = np.array(data['Severity'])"
      ]
    },
    {
      "cell_type": "code",
      "execution_count": 32,
      "metadata": {
        "colab": {
          "base_uri": "https://localhost:8080/"
        },
        "id": "NGaplaisTWbq",
        "outputId": "5920f024-beec-4913-a115-81343612e970"
      },
      "outputs": [
        {
          "output_type": "stream",
          "name": "stdout",
          "text": [
            "(960, 14)\n",
            "(960,)\n"
          ]
        }
      ],
      "source": [
        "print(x.shape)\n",
        "print(y.shape)\n",
        "N, d = x.shape"
      ]
    },
    {
      "cell_type": "markdown",
      "metadata": {
        "id": "srP5mtC5TWbq"
      },
      "source": [
        "Разобьем данные на обучающую и тестовую выборки в пропорции 3:1 (75% - обучающая выборка, 25% - тестовая):"
      ]
    },
    {
      "cell_type": "code",
      "execution_count": 33,
      "metadata": {
        "colab": {
          "base_uri": "https://localhost:8080/"
        },
        "id": "xuqu5dMZTWbq",
        "outputId": "9778feb4-4aec-461f-a205-484cc52a9359"
      },
      "outputs": [
        {
          "output_type": "stream",
          "name": "stdout",
          "text": [
            "720 240\n"
          ]
        }
      ],
      "source": [
        "from sklearn.model_selection import train_test_split\n",
        "X_train, X_test, y_train, y_test = train_test_split(x, y, test_size = 0.25, random_state = 42)\n",
        "\n",
        "N_train, _ = X_train.shape \n",
        "N_test,  _ = X_test.shape \n",
        "\n",
        "print(N_train, N_test)"
      ]
    },
    {
      "cell_type": "markdown",
      "metadata": {
        "id": "bAeYkxRtTWbr"
      },
      "source": [
        "## Классификация"
      ]
    },
    {
      "cell_type": "markdown",
      "metadata": {
        "id": "lEaJtrLsTWbr"
      },
      "source": [
        "### Нейронные сети (MLP - Multi Layer Perceptron)"
      ]
    },
    {
      "cell_type": "markdown",
      "metadata": {
        "id": "FnAsNfdOTWbr"
      },
      "source": [
        "#### Обучаем классификатор"
      ]
    },
    {
      "cell_type": "code",
      "source": [
        "from sklearn.neural_network import MLPClassifier"
      ],
      "metadata": {
        "id": "fvNC6IBZT2vj"
      },
      "execution_count": 34,
      "outputs": []
    },
    {
      "cell_type": "code",
      "execution_count": 35,
      "metadata": {
        "colab": {
          "base_uri": "https://localhost:8080/"
        },
        "id": "kz_1PgFsTWbr",
        "outputId": "24f9be77-0021-4544-e80a-c93556d2bc0b"
      },
      "outputs": [
        {
          "output_type": "stream",
          "name": "stderr",
          "text": [
            "C:\\Users\\proko\\anaconda3\\lib\\site-packages\\sklearn\\neural_network\\_multilayer_perceptron.py:582: ConvergenceWarning: Stochastic Optimizer: Maximum iterations (200) reached and the optimization hasn't converged yet.\n",
            "  warnings.warn(\n"
          ]
        },
        {
          "output_type": "execute_result",
          "data": {
            "text/plain": [
              "MLPClassifier(random_state=42)"
            ]
          },
          "metadata": {},
          "execution_count": 35
        }
      ],
      "source": [
        "mlp_model = MLPClassifier(hidden_layer_sizes = (100,), random_state = 42)\n",
        "mlp_model.fit(X_train, y_train)"
      ]
    },
    {
      "cell_type": "markdown",
      "metadata": {
        "id": "KGRZtOCqTWbr"
      },
      "source": [
        "Проверяем качество классификатора"
      ]
    },
    {
      "cell_type": "code",
      "execution_count": 36,
      "metadata": {
        "id": "LxXaHWq0TWbs"
      },
      "outputs": [],
      "source": [
        "y_train_pred = mlp_model.predict(X_train)\n",
        "y_test_pred = mlp_model.predict(X_test)"
      ]
    },
    {
      "cell_type": "markdown",
      "metadata": {
        "id": "E2iTSro9TWbs"
      },
      "source": [
        "#### Ошибки на обучающей и тестовой выборках:"
      ]
    },
    {
      "cell_type": "code",
      "execution_count": 37,
      "metadata": {
        "colab": {
          "base_uri": "https://localhost:8080/"
        },
        "id": "qh5VYyeJTWbs",
        "outputId": "64028820-af35-4fa4-b069-e4c0dfde14d0"
      },
      "outputs": [
        {
          "output_type": "execute_result",
          "data": {
            "text/plain": [
              "(0.17777777777777778, 0.20833333333333334)"
            ]
          },
          "metadata": {},
          "execution_count": 37
        }
      ],
      "source": [
        "np.mean(y_train != y_train_pred), np.mean(y_test != y_test_pred)"
      ]
    },
    {
      "cell_type": "code",
      "execution_count": 38,
      "metadata": {
        "id": "IIeUdhJUTWbs"
      },
      "outputs": [],
      "source": [
        "from sklearn.metrics import accuracy_score"
      ]
    },
    {
      "cell_type": "code",
      "execution_count": 39,
      "metadata": {
        "colab": {
          "base_uri": "https://localhost:8080/"
        },
        "id": "0GHKvwwPTWbs",
        "outputId": "fb3f2d93-1112-4fc7-8afb-e05f43ccb214"
      },
      "outputs": [
        {
          "output_type": "execute_result",
          "data": {
            "text/plain": [
              "0.8222222222222222"
            ]
          },
          "metadata": {},
          "execution_count": 39
        }
      ],
      "source": [
        "accuracy_score(y_train, y_train_pred)"
      ]
    },
    {
      "cell_type": "code",
      "execution_count": 40,
      "metadata": {
        "colab": {
          "base_uri": "https://localhost:8080/"
        },
        "id": "2v0Q4ZYPTWbt",
        "outputId": "25bd40c7-3991-4026-f7dd-45c7e1b39e8c"
      },
      "outputs": [
        {
          "output_type": "execute_result",
          "data": {
            "text/plain": [
              "0.7916666666666666"
            ]
          },
          "metadata": {},
          "execution_count": 40
        }
      ],
      "source": [
        "accuracy_score(y_test, y_test_pred)"
      ]
    },
    {
      "cell_type": "markdown",
      "metadata": {
        "id": "y_iPfemXTWbt"
      },
      "source": [
        "#### Подбор гиперпараметров:"
      ]
    },
    {
      "cell_type": "markdown",
      "metadata": {
        "id": "Pfbi8EIHTWbt"
      },
      "source": [
        "Подберем оптимальное значение параметра регуляризации alpha"
      ]
    },
    {
      "cell_type": "code",
      "execution_count": 43,
      "metadata": {
        "id": "6De_cpZLTWbt"
      },
      "outputs": [],
      "source": [
        "alpha_arr = np.logspace(-3, 2, 21)\n",
        "test_err = []\n",
        "train_err = []\n",
        "train_acc = []\n",
        "test_acc = []\n",
        "\n",
        "for alpha in alpha_arr:\n",
        "    mlp_model = MLPClassifier(alpha = alpha, hidden_layer_sizes = (100,), max_iter=1000, random_state = 42)\n",
        "    mlp_model.fit(X_train, y_train)\n",
        "\n",
        "    y_train_pred = mlp_model.predict(X_train)\n",
        "    y_test_pred = mlp_model.predict(X_test)\n",
        "    \n",
        "    train_err.append(np.mean(y_train != y_train_pred))\n",
        "    test_err.append(np.mean(y_test != y_test_pred))\n",
        "    train_acc.append(accuracy_score(y_train, y_train_pred))\n",
        "    test_acc.append(accuracy_score(y_test, y_test_pred))"
      ]
    },
    {
      "cell_type": "code",
      "execution_count": 44,
      "metadata": {
        "colab": {
          "base_uri": "https://localhost:8080/",
          "height": 316
        },
        "id": "WFEIr1JCTWbt",
        "outputId": "40862545-aaa2-4cfa-f48d-111de4624379"
      },
      "outputs": [
        {
          "output_type": "execute_result",
          "data": {
            "text/plain": [
              "<matplotlib.legend.Legend at 0x1cc89e26dc0>"
            ]
          },
          "metadata": {},
          "execution_count": 44
        },
        {
          "output_type": "display_data",
          "data": {
            "text/plain": [
              "<Figure size 432x288 with 1 Axes>"
            ],
            "image/png": "[encoded data removed]"
          },
          "metadata": {
            "needs_background": "light"
          }
        }
      ],
      "source": [
        "plt.semilogx(alpha_arr, train_err, 'b-o', label = 'train')\n",
        "plt.semilogx(alpha_arr, test_err, 'r-o', label = 'test')\n",
        "plt.xlim([np.min(alpha_arr), np.max(alpha_arr)])\n",
        "plt.title('Error vs. alpha')\n",
        "plt.xlabel('alpha')\n",
        "plt.ylabel('error')\n",
        "plt.legend()"
      ]
    },
    {
      "cell_type": "markdown",
      "source": [
        "При alpha = 10 получаем оптимальное значение, т.к. ошибка на тестовой и тренировочной выборках совпадает.\n",
        "При alpha > 10 ошибка резко увеличивается, что говорит о недообучении модели."
      ],
      "metadata": {
        "id": "2ZHl_aYmhTI6"
      }
    },
    {
      "cell_type": "markdown",
      "metadata": {
        "id": "V7vA2v2QTWbu"
      },
      "source": [
        "Рассмотрим как менялась метрика качества в зависимости от гиперпараметра alpha:"
      ]
    },
    {
      "cell_type": "code",
      "execution_count": 45,
      "metadata": {
        "colab": {
          "base_uri": "https://localhost:8080/",
          "height": 316
        },
        "id": "mjRiGq1yTWbu",
        "outputId": "8ad6729c-199d-4e17-a17e-d9d9fc96e6ff"
      },
      "outputs": [
        {
          "output_type": "execute_result",
          "data": {
            "text/plain": [
              "<matplotlib.legend.Legend at 0x1cc89f04f10>"
            ]
          },
          "metadata": {},
          "execution_count": 45
        },
        {
          "output_type": "display_data",
          "data": {
            "text/plain": [
              "<Figure size 432x288 with 1 Axes>"
            ],
            "image/png": "[encoded data removed]"
          },
          "metadata": {
            "needs_background": "light"
          }
        }
      ],
      "source": [
        "plt.semilogx(alpha_arr, train_acc, 'r-o', label = 'train')\n",
        "plt.semilogx(alpha_arr, test_acc, 'b-o', label = 'test')\n",
        "plt.xlim([np.min(alpha_arr), np.max(alpha_arr)])\n",
        "plt.title('Accuracy vs. alpha')\n",
        "plt.xlabel('alpha')\n",
        "plt.ylabel('Accuracy')\n",
        "plt.legend()"
      ]
    },
    {
      "cell_type": "markdown",
      "metadata": {
        "id": "BNZEh8N3TWbu"
      },
      "source": [
        "Минимальное значение ошибки:"
      ]
    },
    {
      "cell_type": "code",
      "execution_count": 46,
      "metadata": {
        "colab": {
          "base_uri": "https://localhost:8080/"
        },
        "id": "qeYumouCTWbu",
        "outputId": "1e81d3d6-0564-4737-8ded-07a45d4fa5cf"
      },
      "outputs": [
        {
          "output_type": "stream",
          "name": "stdout",
          "text": [
            "0.16527777777777777 0.19583333333333333\n"
          ]
        }
      ],
      "source": [
        "min_train_err = np.min(train_err)\n",
        "min_test_err = np.min(test_err)\n",
        "print(min_train_err, min_test_err)"
      ]
    },
    {
      "cell_type": "markdown",
      "metadata": {
        "id": "RTm-wr0wTWbu"
      },
      "source": [
        "Оптимальное значение alpha:"
      ]
    },
    {
      "cell_type": "code",
      "execution_count": 47,
      "metadata": {
        "colab": {
          "base_uri": "https://localhost:8080/"
        },
        "id": "PaVABAPxTWbv",
        "outputId": "5be302d7-1b64-40ea-cb53-97799c53c172"
      },
      "outputs": [
        {
          "output_type": "stream",
          "name": "stdout",
          "text": [
            "[10.]\n"
          ]
        }
      ],
      "source": [
        "alpha_opt = alpha_arr[test_err == min_test_err]\n",
        "print(alpha_opt)"
      ]
    },
    {
      "cell_type": "code",
      "execution_count": 48,
      "metadata": {
        "id": "FuK2dRPsTWbv"
      },
      "outputs": [],
      "source": [
        "alpha_opt = alpha_opt[0]"
      ]
    },
    {
      "cell_type": "markdown",
      "metadata": {
        "id": "kUlvfDRWTWbv"
      },
      "source": [
        "#### Классификатор при найденном оптимальном значении alpha:"
      ]
    },
    {
      "cell_type": "code",
      "execution_count": 50,
      "metadata": {
        "colab": {
          "base_uri": "https://localhost:8080/"
        },
        "id": "u4Z6Hsr9TWbv",
        "outputId": "55dbd88b-f312-43d6-f4ab-855be7545e8f"
      },
      "outputs": [
        {
          "output_type": "stream",
          "name": "stdout",
          "text": [
            "0.19444444444444445\n",
            "0.19583333333333333\n"
          ]
        }
      ],
      "source": [
        "mlp_model = MLPClassifier(alpha = alpha_opt, hidden_layer_sizes = (100,), random_state = 42)\n",
        "mlp_model.fit(X_train, y_train)\n",
        "\n",
        "y_train_pred = mlp_model.predict(X_train)\n",
        "y_test_pred = mlp_model.predict(X_test)\n",
        "print(np.mean(y_train != y_train_pred))\n",
        "print(np.mean(y_test != y_test_pred))"
      ]
    },
    {
      "cell_type": "code",
      "execution_count": 51,
      "metadata": {
        "colab": {
          "base_uri": "https://localhost:8080/"
        },
        "id": "NkV4ABI9TWbv",
        "outputId": "81e63167-335d-449d-e8f5-17f2899dea09"
      },
      "outputs": [
        {
          "output_type": "execute_result",
          "data": {
            "text/plain": [
              "0.8055555555555556"
            ]
          },
          "metadata": {},
          "execution_count": 51
        }
      ],
      "source": [
        "accuracy_score(y_train, y_train_pred)"
      ]
    },
    {
      "cell_type": "code",
      "execution_count": 52,
      "metadata": {
        "colab": {
          "base_uri": "https://localhost:8080/"
        },
        "id": "fwMmo6t8TWbw",
        "outputId": "9d368e45-9e5f-424a-d851-9f8ddac02166"
      },
      "outputs": [
        {
          "output_type": "execute_result",
          "data": {
            "text/plain": [
              "0.8041666666666667"
            ]
          },
          "metadata": {},
          "execution_count": 52
        }
      ],
      "source": [
        "accuracy_score(y_test, y_test_pred)"
      ]
    },
    {
      "cell_type": "markdown",
      "source": [
        "Построим график зависимости ошибки от количества нейронов:"
      ],
      "metadata": {
        "id": "Skgfto1BCN1B"
      }
    },
    {
      "cell_type": "code",
      "source": [
        "neuron_arr = np.linspace(10, 500, 10).astype(int)\n",
        "test_error = []\n",
        "train_error = []\n",
        "test_acc = []\n",
        "train_acc = []\n",
        "\n",
        "for count in neuron_arr:\n",
        "  mlp_model = MLPClassifier(alpha=alpha_opt, hidden_layer_sizes=(count,), max_iter=1000, random_state=42)\n",
        "  mlp_model.fit(X_train, y_train)\n",
        "  \n",
        "  y_train_pred = mlp_model.predict(X_train)\n",
        "  y_test_pred = mlp_model.predict(X_test)\n",
        "  \n",
        "  test_error.append(np.mean(y_test != y_test_pred))\n",
        "  train_error.append(np.mean(y_train != y_train_pred))\n",
        "  test_acc.append(accuracy_score(y_test, y_test_pred))\n",
        "  train_acc.append(accuracy_score(y_train, y_train_pred))"
      ],
      "metadata": {
        "id": "G6k2dbRsXvOC"
      },
      "execution_count": 77,
      "outputs": []
    },
    {
      "cell_type": "code",
      "source": [
        "plt.plot(neuron_arr, train_error, 'r-o', label='train')\n",
        "plt.plot(neuron_arr, test_error, 'b-o', label='test')\n",
        "plt.xlim([np.min(neuron_arr), np.max(neuron_arr)])\n",
        "plt.xlabel('neuron')\n",
        "plt.ylabel('error')\n",
        "plt.legend()"
      ],
      "metadata": {
        "colab": {
          "base_uri": "https://localhost:8080/",
          "height": 296
        },
        "id": "OgTbcrbOYrJs",
        "outputId": "1b182e23-3e57-4538-d254-a5e54843958c"
      },
      "execution_count": 78,
      "outputs": [
        {
          "output_type": "execute_result",
          "data": {
            "text/plain": [
              "<matplotlib.legend.Legend at 0x1cc89f592b0>"
            ]
          },
          "metadata": {},
          "execution_count": 78
        },
        {
          "output_type": "display_data",
          "data": {
            "text/plain": [
              "<Figure size 432x288 with 1 Axes>"
            ],
            "image/png": "[encoded data removed]"
          },
          "metadata": {
            "needs_background": "light"
          }
        }
      ]
    },
    {
      "cell_type": "markdown",
      "source": [
        "Подберем оптимальное значение числа нейронов:"
      ],
      "metadata": {
        "id": "fJOOAYf0cfDd"
      }
    },
    {
      "cell_type": "code",
      "source": [
        "neuron_arr = np.linspace(10, 500,10).astype(int)\n",
        "test_err = []\n",
        "train_err = []\n",
        "train_acc = []\n",
        "test_acc = []\n",
        "\n",
        "for count in neuron_arr:\n",
        "    mlp_model = MLPClassifier(alpha = alpha_opt, hidden_layer_sizes = (count,), max_iter=1000, random_state = 42)\n",
        "    mlp_model.fit(X_train, y_train)\n",
        "\n",
        "    y_train_pred = mlp_model.predict(X_train)\n",
        "    y_test_pred = mlp_model.predict(X_test)\n",
        "    \n",
        "    train_err.append(np.mean(y_train != y_train_pred))\n",
        "    test_err.append(np.mean(y_test != y_test_pred))\n",
        "    train_acc.append(accuracy_score(y_train, y_train_pred))\n",
        "    test_acc.append(accuracy_score(y_test, y_test_pred))"
      ],
      "metadata": {
        "id": "Ou1RfTMnceOT"
      },
      "execution_count": 83,
      "outputs": []
    },
    {
      "cell_type": "code",
      "source": [
        "min_train_err = np.min(train_err)\n",
        "min_test_err = np.min(test_err)\n",
        "print(min_train_err, min_test_err)"
      ],
      "metadata": {
        "colab": {
          "base_uri": "https://localhost:8080/"
        },
        "id": "0qqSmPbndF7y",
        "outputId": "160f04ef-be21-4e26-9ad5-9cc6caad4583"
      },
      "execution_count": 84,
      "outputs": [
        {
          "output_type": "stream",
          "name": "stdout",
          "text": [
            "0.18472222222222223 0.19583333333333333\n"
          ]
        }
      ]
    },
    {
      "cell_type": "code",
      "source": [
        "neuron_opt = neuron_arr[test_err == min_test_err]\n",
        "print(neuron_opt)"
      ],
      "metadata": {
        "colab": {
          "base_uri": "https://localhost:8080/"
        },
        "id": "VmXWTuKOdIri",
        "outputId": "d17e5271-569f-48be-9fab-750a4416bdba"
      },
      "execution_count": 85,
      "outputs": [
        {
          "output_type": "stream",
          "name": "stdout",
          "text": [
            "[ 64 118 282 445]\n"
          ]
        }
      ]
    },
    {
      "cell_type": "code",
      "source": [
        "neuron_opt = neuron_opt[0]"
      ],
      "metadata": {
        "id": "gUEujOtQdMDx"
      },
      "execution_count": 86,
      "outputs": []
    },
    {
      "cell_type": "markdown",
      "source": [
        "Обучим классификатор при оптимальном значении количества нейронов:"
      ],
      "metadata": {
        "id": "fiTouqxUeHhN"
      }
    },
    {
      "cell_type": "code",
      "source": [
        "mlp_model = MLPClassifier(alpha = alpha_opt, hidden_layer_sizes = (neuron_opt,), random_state = 42)\n",
        "mlp_model.fit(X_train, y_train)\n",
        "\n",
        "y_train_pred = mlp_model.predict(X_train)\n",
        "y_test_pred = mlp_model.predict(X_test)\n",
        "print(np.mean(y_train != y_train_pred))\n",
        "print(np.mean(y_test != y_test_pred))"
      ],
      "metadata": {
        "colab": {
          "base_uri": "https://localhost:8080/"
        },
        "id": "0CyZSSx5gWdk",
        "outputId": "68875ef7-21c3-4816-c493-b016a61e9bab"
      },
      "execution_count": 87,
      "outputs": [
        {
          "output_type": "stream",
          "name": "stdout",
          "text": [
            "0.19166666666666668\n",
            "0.19583333333333333\n"
          ]
        }
      ]
    },
    {
      "cell_type": "code",
      "source": [
        "accuracy_score(y_train, y_train_pred)"
      ],
      "metadata": {
        "colab": {
          "base_uri": "https://localhost:8080/"
        },
        "id": "ceUit45ogeK3",
        "outputId": "596e2af6-3b8b-4f10-bce5-1f9558ff0456"
      },
      "execution_count": 88,
      "outputs": [
        {
          "output_type": "execute_result",
          "data": {
            "text/plain": [
              "0.8083333333333333"
            ]
          },
          "metadata": {},
          "execution_count": 88
        }
      ]
    },
    {
      "cell_type": "code",
      "source": [
        "accuracy_score(y_test, y_test_pred)"
      ],
      "metadata": {
        "colab": {
          "base_uri": "https://localhost:8080/"
        },
        "id": "HehRXwQJgfI2",
        "outputId": "4438f0e1-a364-45d0-abaf-69ea74aa38bc"
      },
      "execution_count": 89,
      "outputs": [
        {
          "output_type": "execute_result",
          "data": {
            "text/plain": [
              "0.8041666666666667"
            ]
          },
          "metadata": {},
          "execution_count": 89
        }
      ]
    },
    {
      "cell_type": "markdown",
      "metadata": {
        "id": "4XYAGwp_TWbw"
      },
      "source": [
        "Подбор количества нейронов совсем незначительно повысил точность на тренировочной выборке, а на тестовой значение точности вовсе не изменилось."
      ]
    },
    {
      "cell_type": "markdown",
      "metadata": {
        "id": "RfDXnxanTWbw"
      },
      "source": [
        "### Torch"
      ]
    },
    {
      "cell_type": "code",
      "source": [
        "!pip3 install torch torchvision"
      ],
      "metadata": {
        "colab": {
          "base_uri": "https://localhost:8080/"
        },
        "id": "l0QZKtnv8jOu",
        "outputId": "e3629daa-b23d-4783-c95f-8f9ce4d64767"
      },
      "execution_count": null,
      "outputs": [
        {
          "output_type": "stream",
          "name": "stdout",
          "text": [
            "Collecting torch\n",
            "  Using cached torch-1.10.0-cp38-cp38-win_amd64.whl (226.6 MB)\n",
            "Collecting torchvision\n",
            "  Downloading torchvision-0.11.1-cp38-cp38-win_amd64.whl (984 kB)\n",
            "Requirement already satisfied: typing-extensions in c:\\users\\proko\\anaconda3\\lib\\site-packages (from torch) (3.7.4.2)\n",
            "Requirement already satisfied: pillow!=8.3.0,>=5.3.0 in c:\\users\\proko\\anaconda3\\lib\\site-packages (from torchvision) (7.2.0)\n",
            "Requirement already satisfied: numpy in c:\\users\\proko\\anaconda3\\lib\\site-packages (from torchvision) (1.18.5)\n",
            "Installing collected packages: torch, torchvision\n",
            "Successfully installed torch-1.10.0 torchvision-0.11.1\n"
          ]
        }
      ]
    },
    {
      "cell_type": "code",
      "execution_count": null,
      "metadata": {
        "id": "M5vZ0VDQTWbw"
      },
      "outputs": [],
      "source": [
        "import torch # библиотека нейронных сетей\n",
        "import torch.nn as nn # модуль слоёв\n",
        "import numpy as np"
      ]
    },
    {
      "cell_type": "code",
      "source": [
        "model = nn.Sequential(\n",
        "    nn.Linear(d, 50),\n",
        "    nn.ReLU(),\n",
        "    nn.Linear(50, 10)\n",
        ")\n",
        "model"
      ],
      "metadata": {
        "colab": {
          "base_uri": "https://localhost:8080/"
        },
        "id": "OlYyq4-Oba4K",
        "outputId": "4ba2aef2-0c16-4ef1-c9a9-077e2967b53f"
      },
      "execution_count": null,
      "outputs": [
        {
          "output_type": "execute_result",
          "data": {
            "text/plain": [
              "Sequential(\n",
              "  (0): Linear(in_features=14, out_features=50, bias=True)\n",
              "  (1): ReLU()\n",
              "  (2): Linear(in_features=50, out_features=10, bias=True)\n",
              ")"
            ]
          },
          "metadata": {},
          "execution_count": 71
        }
      ]
    },
    {
      "cell_type": "code",
      "source": [
        "from torch.utils.data import TensorDataset, DataLoader\n",
        "\n",
        "def train(model, X, y, loss_function, optimizer, batch_size=16, epochs=16):\n",
        "    X_tensor = torch.Tensor(X)\n",
        "    y_tensor = torch.LongTensor(y)\n",
        "    model.train()\n",
        "    dataset = TensorDataset(X_tensor, y_tensor)\n",
        "    dataloader = DataLoader(dataset, batch_size = batch_size, shuffle = True)\n",
        "    for _ in range(epochs):\n",
        "        losses = []\n",
        "        for X_batch, y_batch in dataloader:\n",
        "            logits = model(X_batch)\n",
        "            loss = loss_function(logits, y_batch)\n",
        "            optimizer.zero_grad()\n",
        "            loss.backward()\n",
        "            optimizer.step()\n",
        "            losses.append(loss.data.numpy())\n",
        "        print(np.mean(losses))"
      ],
      "metadata": {
        "id": "6PVSaSUwbiYO"
      },
      "execution_count": null,
      "outputs": []
    },
    {
      "cell_type": "code",
      "source": [
        "loss_function = nn.CrossEntropyLoss()\n",
        "optimizer = torch.optim.Adam(model.parameters())"
      ],
      "metadata": {
        "id": "ocm2nlF9eF2p"
      },
      "execution_count": null,
      "outputs": []
    },
    {
      "cell_type": "code",
      "source": [
        "train(model, X_train, y_train, loss_function, optimizer)"
      ],
      "metadata": {
        "colab": {
          "base_uri": "https://localhost:8080/"
        },
        "id": "0_ui4040950q",
        "outputId": "5f658369-1b52-4ead-b683-9e97cd3457fc"
      },
      "execution_count": null,
      "outputs": [
        {
          "output_type": "stream",
          "name": "stdout",
          "text": [
            "1.9416507\n",
            "1.1819817\n",
            "0.7001493\n",
            "0.53774446\n",
            "0.4876938\n",
            "0.47042137\n",
            "0.46057642\n",
            "0.4571979\n",
            "0.45439723\n",
            "0.4506578\n",
            "0.44912732\n",
            "0.44833636\n",
            "0.44748846\n",
            "0.44812256\n",
            "0.4440217\n",
            "0.44331232\n"
          ]
        }
      ]
    },
    {
      "cell_type": "code",
      "source": [
        "from sklearn.metrics import  accuracy_score"
      ],
      "metadata": {
        "id": "s3jvQ8Eu99p-"
      },
      "execution_count": null,
      "outputs": []
    },
    {
      "cell_type": "code",
      "source": [
        "y_pred = model(torch.Tensor(X_test)).data.numpy().argmax(axis = 1)\n",
        "accuracy = accuracy_score(y_test, y_pred)\n",
        "print(f\"Accuracy = {accuracy}\")"
      ],
      "metadata": {
        "colab": {
          "base_uri": "https://localhost:8080/"
        },
        "id": "PNM7UdZ--Fau",
        "outputId": "86e42643-f73f-435e-e537-0f79d028de66"
      },
      "execution_count": null,
      "outputs": [
        {
          "output_type": "stream",
          "name": "stdout",
          "text": [
            "Accuracy = 0.7958333333333333\n"
          ]
        }
      ]
    },
    {
      "cell_type": "markdown",
      "metadata": {
        "id": "oB2sk6qATWbx"
      },
      "source": [
        "## Выводы:\n",
        "- Наблюдается недообучение модели при alpha > 10;\n",
        "- Переобучения не наблюдается;\n",
        "- Подбор гиперпараметров помог повысить точность на тестовой выборке;\n",
        "- Не слишком высокий процент точности предсказаний связан с недостаточно информативным датасетом для обнаружения образований."
      ]
    }
  ],
  "metadata": {
    "kernelspec": {
      "display_name": "Python 3",
      "language": "python",
      "name": "python3"
    },
    "language_info": {
      "codemirror_mode": {
        "name": "ipython",
        "version": 3
      },
      "file_extension": ".py",
      "mimetype": "text/x-python",
      "name": "python",
      "nbconvert_exporter": "python",
      "pygments_lexer": "ipython3",
      "version": "3.8.3"
    },
    "colab": {
      "name": "lab2.ipynb",
      "provenance": [],
      "collapsed_sections": []
    }
  },
  "nbformat": 4,
  "nbformat_minor": 0
}